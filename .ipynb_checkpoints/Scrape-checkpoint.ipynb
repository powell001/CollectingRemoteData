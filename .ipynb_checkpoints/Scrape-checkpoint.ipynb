{
 "cells": [
  {
   "cell_type": "code",
   "execution_count": 71,
   "metadata": {},
   "outputs": [
    {
     "name": "stderr",
     "output_type": "stream",
     "text": [
      "/home/jeff001/python36/lib/python3.6/site-packages/ipykernel_launcher.py:13: DeprecationWarning: use options instead of chrome_options\n",
      "  del sys.path[0]\n"
     ]
    }
   ],
   "source": [
    "from selenium import webdriver\n",
    "from selenium.webdriver.support.ui import Select\n",
    "import selenium as se\n",
    "from selenium.webdriver.chrome.options import Options\n",
    "\n",
    "chrome_options = Options()\n",
    "chrome_options.add_argument('--headless')\n",
    "chrome_options.add_argument('--no-sandbox')\n",
    "chrome_options.add_argument('--disable-dev-shm-usage')\n",
    "driver = webdriver.Chrome('/home/jeff001/CollectingRemoteData/chromedriver',chrome_options=chrome_options)\n",
    "\n",
    "#Grab the web page\n",
    "driver.get(\"https://apps.fas.usda.gov/esrquery/esrq.aspx\")\n",
    "\n",
    "#Commodity\n",
    "dropdown = Select(driver.find_element_by_name(\"ctl00$MainContent$lbCommodity\"))\n",
    "dropdown.deselect_all()\n",
    "dropdown.select_by_value(\"104\")\n",
    "\n",
    "#Country\n",
    "dropdown = Select(driver.find_element_by_name(\"ctl00$MainContent$lbCountry\"))\n",
    "dropdown.deselect_all()\n",
    "dropdown.select_by_value(\"0:0\")\n",
    "\n",
    "#Download form\n",
    "radio = driver.find_element_by_id(\"ctl00_MainContent_rblOutputType_2\")\n",
    "radio.click()\n",
    "\n",
    "button = driver.find_element_by_name(\"ctl00$MainContent$btnSubmit\")\n",
    "button.click()"
   ]
  },
  {
   "cell_type": "code",
   "execution_count": null,
   "metadata": {},
   "outputs": [],
   "source": []
  },
  {
   "cell_type": "code",
   "execution_count": null,
   "metadata": {},
   "outputs": [],
   "source": []
  }
 ],
 "metadata": {
  "kernelspec": {
   "display_name": "venv python36",
   "language": "python",
   "name": "python36"
  },
  "language_info": {
   "codemirror_mode": {
    "name": "ipython",
    "version": 3
   },
   "file_extension": ".py",
   "mimetype": "text/x-python",
   "name": "python",
   "nbconvert_exporter": "python",
   "pygments_lexer": "ipython3",
   "version": "3.6.9"
  }
 },
 "nbformat": 4,
 "nbformat_minor": 4
}
