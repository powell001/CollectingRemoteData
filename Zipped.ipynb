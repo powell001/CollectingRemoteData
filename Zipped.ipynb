{
 "cells": [
  {
   "cell_type": "markdown",
   "metadata": {},
   "source": [
    "### Goes to CFTC site, grabs zipped file, saves it as csv."
   ]
  },
  {
   "cell_type": "code",
   "execution_count": 8,
   "metadata": {},
   "outputs": [
    {
     "name": "stdout",
     "output_type": "stream",
     "text": [
      "File Name                                             Modified             Size\n",
      "c_year.txt                                     2020-07-09 15:16:26      9271865\n",
      "Is this the right file!!!:  True\n",
      "(5742, 191)\n"
     ]
    }
   ],
   "source": [
    "from urllib.request import Request, urlopen\n",
    "from urllib.error import HTTPError\n",
    "from urllib.error import URLError\n",
    "from urllib.request import urlopen\n",
    "import zipfile\n",
    "import pandas as pd\n",
    "from zipfile import ZipFile\n",
    "\n",
    "##################################\n",
    "##################################\n",
    "# scrape zipped file\n",
    "##################################\n",
    "##################################\n",
    "\n",
    "def readinZip(zippedFile, nameOfZippedFile):\n",
    "    #read in byte data\n",
    "    data = zippedFile.read()\n",
    "    zippedFile.close()\n",
    "    #open zipped file\n",
    "    local = open(nameOfZippedFile, 'wb')\n",
    "    local.write(data)\n",
    "    local.close()\n",
    "\n",
    "def namesZipped(file_name):\n",
    "    with ZipFile(file_name, 'r') as zip:\n",
    "        zip.printdir()\n",
    "\n",
    "def readUrl(url, nameOfZippedFile):\n",
    "    try:\n",
    "        zipFile = urlopen(url)\n",
    "    except HTTPError as e:\n",
    "        print(e)\n",
    "    except URLError as e:\n",
    "        print('The url could not be found!')\n",
    "    else:\n",
    "        readinZip(zipFile, nameOfZippedFile)\n",
    "\n",
    "url = 'https://www.cftc.gov/files/dea/history/com_disagg_txt_2020.zip'\n",
    "nameOfZippedFile = 'data/zippedCom_disagg.zip'\n",
    "readUrl(url, nameOfZippedFile)\n",
    "\n",
    "namesZipped('data/zippedCom_disagg.zip')\n",
    "\n",
    "\n",
    "##################################\n",
    "##################################\n",
    "# read in local data\n",
    "##################################\n",
    "##################################\n",
    "\n",
    "def rundfTests(df):\n",
    "    print(df.shape)\n",
    "    return(df)\n",
    "\n",
    "def ziptoPandas(localZipFileName, zippedFile):\n",
    "    zf = zipfile.ZipFile(localZipFileName)\n",
    "    print(\"Is this the right file!!!: \", zf.namelist() == [zippedFile])\n",
    "    if zf.namelist() == [zippedFile]:\n",
    "        df = pd.read_csv(zf.open(zippedFile), sep = \",\")\n",
    "        rundfTests(df)\n",
    "        top4 = df.head(4)\n",
    "        top4.to_csv(\"data/zippedFile.csv\")\n",
    "    else:\n",
    "        print(\"Danger, wrong file name!!!\")\n",
    "\n",
    "localZipFileName = 'data/zippedCom_disagg.zip'\n",
    "zippedFile = 'c_year.txt'\n",
    "ziptoPandas(localZipFileName, zippedFile)"
   ]
  },
  {
   "cell_type": "code",
   "execution_count": null,
   "metadata": {},
   "outputs": [],
   "source": []
  }
 ],
 "metadata": {
  "kernelspec": {
   "display_name": "venv python36",
   "language": "python",
   "name": "python36"
  },
  "language_info": {
   "codemirror_mode": {
    "name": "ipython",
    "version": 3
   },
   "file_extension": ".py",
   "mimetype": "text/x-python",
   "name": "python",
   "nbconvert_exporter": "python",
   "pygments_lexer": "ipython3",
   "version": "3.6.9"
  }
 },
 "nbformat": 4,
 "nbformat_minor": 4
}
